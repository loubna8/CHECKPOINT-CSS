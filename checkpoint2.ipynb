{
 "cells": [
  {
   "cell_type": "code",
   "execution_count": 3,
   "id": "7eb597d5",
   "metadata": {},
   "outputs": [
    {
     "name": "stdout",
     "output_type": "stream",
     "text": [
      "[2002, 2009, 2016, 2023, 2037, 2044, 2051, 2058, 2072, 2079, 2086, 2093, 2107, 2114, 2121, 2128, 2142, 2149, 2156, 2163, 2177, 2184, 2191, 2198, 2212, 2219, 2226, 2233, 2247, 2254, 2261, 2268, 2282, 2289, 2296, 2303, 2317, 2324, 2331, 2338, 2352, 2359, 2366, 2373, 2387, 2394, 2401, 2408, 2422, 2429, 2436, 2443, 2457, 2464, 2471, 2478, 2492, 2499, 2506, 2513, 2527, 2534, 2541, 2548, 2562, 2569, 2576, 2583, 2597, 2604, 2611, 2618, 2632, 2639, 2646, 2653, 2667, 2674, 2681, 2688, 2702, 2709, 2716, 2723, 2737, 2744, 2751, 2758, 2772, 2779, 2786, 2793, 2807, 2814, 2821, 2828, 2842, 2849, 2856, 2863, 2877, 2884, 2891, 2898, 2912, 2919, 2926, 2933, 2947, 2954, 2961, 2968, 2982, 2989, 2996, 3003, 3017, 3024, 3031, 3038, 3052, 3059, 3066, 3073, 3087, 3094, 3101, 3108, 3122, 3129, 3136, 3143, 3157, 3164, 3171, 3178, 3192, 3199]\n"
     ]
    }
   ],
   "source": [
    "l = []\n",
    "for i in range (2000, 3201):\n",
    "    if i%7==0 and i%5!=0:\n",
    "        l.append(i)\n",
    "print(l)\n",
    "       "
   ]
  },
  {
   "cell_type": "code",
   "execution_count": 13,
   "id": "6442c4ca",
   "metadata": {},
   "outputs": [
    {
     "data": {
      "text/plain": [
       "1"
      ]
     },
     "execution_count": 13,
     "metadata": {},
     "output_type": "execute_result"
    }
   ],
   "source": [
    "def factoriel (nbr):\n",
    "    fact = 1\n",
    "    for i in range (nbr,1,-1):\n",
    "        fact = fact*i\n",
    "    return fact\n",
    "factoriel(0)"
   ]
  },
  {
   "cell_type": "code",
   "execution_count": 15,
   "id": "d76bde4e",
   "metadata": {},
   "outputs": [
    {
     "data": {
      "text/plain": [
       "6"
      ]
     },
     "execution_count": 15,
     "metadata": {},
     "output_type": "execute_result"
    }
   ],
   "source": [
    "\n",
    "def impaire(imp):\n",
    "    for i in range (len(nom)):\n",
    "        if i%2!=0:\n",
    "            \n",
    "            "
   ]
  },
  {
   "cell_type": "code",
   "execution_count": 17,
   "id": "39e8ed2e",
   "metadata": {},
   "outputs": [
    {
     "data": {
      "text/plain": [
       "'lobna'"
      ]
     },
     "execution_count": 17,
     "metadata": {},
     "output_type": "execute_result"
    }
   ],
   "source": [
    "nom = \"loubna\"\n",
    "listNom=list(nom)\n",
    "newName=\" \"\n",
    "for i in range (len(listName)):\n",
    "    if i%2==0:"
   ]
  },
  {
   "cell_type": "markdown",
   "id": "ca31acc1",
   "metadata": {},
   "source": [
    "# question7:"
   ]
  },
  {
   "cell_type": "code",
   "execution_count": 2,
   "id": "f8f73b32",
   "metadata": {},
   "outputs": [
    {
     "data": {
      "text/plain": [
       "250.0"
      ]
     },
     "execution_count": 2,
     "metadata": {},
     "output_type": "execute_result"
    }
   ],
   "source": [
    "#définition de la fonction\n",
    "def price (prx):\n",
    "    if prx>=500:\n",
    "        resultat = prx/2\n",
    "    elif prx>=200 and prx<500:\n",
    "        resultat = (prx/10)*3\n",
    "    else:\n",
    "        resultat = (prx/10)*1\n",
    "    return resultat\n",
    "# l'appel à la fonction\n",
    "price(500)"
   ]
  },
  {
   "cell_type": "code",
   "execution_count": 18,
   "id": "97c31c20",
   "metadata": {},
   "outputs": [
    {
     "name": "stdout",
     "output_type": "stream",
     "text": [
      "prenom: yassir\n",
      "nom: matrane\n",
      "matrane yassir\n"
     ]
    }
   ],
   "source": [
    "var1=input(\"prenom: \")\n",
    "var2=input(\"nom: \")\n",
    "print(var2+\" \"+var1)"
   ]
  },
  {
   "cell_type": "code",
   "execution_count": null,
   "id": "faeaeb1f",
   "metadata": {},
   "outputs": [],
   "source": []
  }
 ],
 "metadata": {
  "kernelspec": {
   "display_name": "Python 3",
   "language": "python",
   "name": "python3"
  },
  "language_info": {
   "codemirror_mode": {
    "name": "ipython",
    "version": 3
   },
   "file_extension": ".py",
   "mimetype": "text/x-python",
   "name": "python",
   "nbconvert_exporter": "python",
   "pygments_lexer": "ipython3",
   "version": "3.8.8"
  },
  "widgets": {
   "application/vnd.jupyter.widget-state+json": {
    "state": {},
    "version_major": 2,
    "version_minor": 0
   }
  }
 },
 "nbformat": 4,
 "nbformat_minor": 5
}
